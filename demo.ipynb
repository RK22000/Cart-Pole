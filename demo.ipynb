{
 "cells": [
  {
   "cell_type": "markdown",
   "metadata": {},
   "source": [
    "## Utils"
   ]
  },
  {
   "cell_type": "code",
   "execution_count": 19,
   "metadata": {},
   "outputs": [],
   "source": [
    "from abc import ABC, abstractmethod\n",
    "import matplotlib.pyplot as plt\n",
    "from IPython.display import clear_output\n",
    "import torch\n",
    "from torch import nn\n",
    "from collections import deque\n",
    "\n",
    "class Agent(ABC):\n",
    "    def __init__(self, max_bufffer_size: int=5000):\n",
    "        self.o = deque([], max_bufffer_size)\n",
    "        self.a = deque([], max_bufffer_size)\n",
    "        self.r = deque([], max_bufffer_size)\n",
    "        self.t = deque([], max_bufffer_size)\n",
    "        self.steps = 0\n",
    "    @abstractmethod\n",
    "    def act(self, observtion):\n",
    "        pass\n",
    "    def record_step(self, o, a, r, t):\n",
    "        \"\"\"Record an sample from environment interaction\n",
    "\n",
    "        Args:\n",
    "            o (): Observation\n",
    "            a (): Action taken for that observation\n",
    "            r (float): Reward return from that observation, action\n",
    "            t (bool): Did the episode terminate with this sample\n",
    "        \"\"\"\n",
    "        self.o.append(o)\n",
    "        self.a.append(a)\n",
    "        self.r.append(r)\n",
    "        self.t.append(t)\n",
    "        self.steps+=1\n",
    "\n",
    "\n",
    "def run_one_episode(env, agent: Agent, render=False):\n",
    "    o, _ = env.reset()\n",
    "    terminated=False\n",
    "    truncated=False\n",
    "    steps = 0\n",
    "    while not terminated and not truncated:\n",
    "        if render:\n",
    "            clear_output(True)\n",
    "            plt.axis('off')\n",
    "            plt.imshow(env.render())\n",
    "            plt.pause(0.01)\n",
    "        action = agent.act(o)\n",
    "        next_o, reward, terminated, truncated, _ = env.step(action)\n",
    "        agent.record_step(o, action, reward, terminated)\n",
    "        o = next_o\n",
    "        steps+=1\n",
    "    return steps\n",
    "    \n",
    "\n",
    "        \n",
    "def make_network(layers: list[int]):\n",
    "    layers = [(i,j) for i,j in zip(layers[:-1], layers[1:])]\n",
    "    layers = [nn.Linear(i, j) for i,j in layers]\n",
    "    l = []\n",
    "    for layer in layers[:-1]:\n",
    "        l.append(layer)\n",
    "        l.append(nn.ReLU())\n",
    "    l.append(layers[-1])\n",
    "    return nn.Sequential(*l)\n"
   ]
  },
  {
   "cell_type": "markdown",
   "metadata": {},
   "source": [
    "## RandomAgent"
   ]
  },
  {
   "cell_type": "code",
   "execution_count": 15,
   "metadata": {},
   "outputs": [
    {
     "data": {
      "image/png": "[encoded data removed]",
      "text/plain": [
       "<Figure size 640x480 with 1 Axes>"
      ]
     },
     "metadata": {},
     "output_type": "display_data"
    },
    {
     "name": "stdout",
     "output_type": "stream",
     "text": [
      "Accumulated 80.0 rewards, across 5 games\n",
      "Mean returns for Random Agent, 16.0\n"
     ]
    }
   ],
   "source": [
    "import numpy as np\n",
    "import gymnasium as gym\n",
    "class RandomAgent(Agent):\n",
    "    def act(self, observtion):\n",
    "        return np.random.randint(2)\n",
    "\n",
    "ra = RandomAgent()\n",
    "env = gym.make(\"CartPole-v1\", render_mode=\"rgb_array\")\n",
    "for _ in range(5):\n",
    "    run_one_episode(env, ra, True)\n",
    "env.close()\n",
    "print(f\"Accumulated {sum(ra.r)} rewards, across {sum(ra.t)} games\")\n",
    "print(f\"Mean returns for Random Agent, {sum(ra.r)/sum(ra.t)}\")"
   ]
  },
  {
   "cell_type": "markdown",
   "metadata": {},
   "source": [
    "## DQN"
   ]
  },
  {
   "cell_type": "code",
   "execution_count": 16,
   "metadata": {},
   "outputs": [
    {
     "data": {
      "image/png": "[encoded data removed]",
      "text/plain": [
       "<Figure size 640x480 with 1 Axes>"
      ]
     },
     "metadata": {},
     "output_type": "display_data"
    },
    {
     "name": "stdout",
     "output_type": "stream",
     "text": [
      "Accumulated 70.0 rewards, across 5 games\n",
      "Mean returns for untrained_DQNndom Agent, 14.0\n"
     ]
    }
   ],
   "source": [
    "# Basic DQN\n",
    "import torch\n",
    "from torch import nn\n",
    "\n",
    "class DQN(Agent):\n",
    "    def __init__(self, network=None):\n",
    "        super().__init__()\n",
    "        self.network = make_network([4, 100, 100, 2]) if network is None else network\n",
    "    def act(self, observtion):\n",
    "        with torch.no_grad():\n",
    "            o = torch.from_numpy(observtion)\n",
    "            vals = self.network(o)\n",
    "            return vals.argmax().item()\n",
    "\n",
    "untrained_DQN = DQN()\n",
    "\n",
    "env = gym.make(\"CartPole-v1\", render_mode=\"rgb_array\")\n",
    "for _ in range(5):\n",
    "    run_one_episode(env, untrained_DQN, True)\n",
    "env.close()\n",
    "print(f\"Accumulated {sum(untrained_DQN.r)} rewards, across {sum(untrained_DQN.t)} games\")\n",
    "print(f\"Mean returns for untrained_DQNndom Agent, {sum(untrained_DQN.r)/sum(untrained_DQN.t)}\")\n"
   ]
  },
  {
   "cell_type": "code",
   "execution_count": null,
   "metadata": {},
   "outputs": [
    {
     "name": "stderr",
     "output_type": "stream",
     "text": [
      "  0%|          | 0/1000 [00:00<?, ?it/s]"
     ]
    },
    {
     "name": "stderr",
     "output_type": "stream",
     "text": [
      "100%|██████████| 1000/1000 [09:10<00:00,  1.82it/s]\n"
     ]
    }
   ],
   "source": [
    "# Training the DQN\n",
    "from torch.utils.data import Dataset, DataLoader, Subset, RandomSampler\n",
    "from tqdm import trange\n",
    "\n",
    "import pandas as pd \n",
    "import seaborn as sns\n",
    "import matplotlib.pyplot as plt\n",
    "import mlflow\n",
    "\n",
    "class DQN_Dataset(Dataset): # requires __getitem__ and __len__\n",
    "    def __init__(self, agent: Agent):\n",
    "        \"\"\"Create training dataset from an agents replay buffer\n",
    "\n",
    "        Args:\n",
    "            agent (Agent): Agent with environment interactions\n",
    "        \"\"\"\n",
    "        super().__init__()\n",
    "\n",
    "        o, a, r, t = agent.o, agent.a, agent.r, agent.t\n",
    "        self.o = torch.tensor(np.stack(o)) \n",
    "        self.a = torch.tensor(a) \n",
    "        self.r = torch.tensor(r) \n",
    "        self.t = torch.tensor(t) \n",
    "        self.next_o = self.o.roll(-1)\n",
    "    def __getitem__(self, index):\n",
    "        return (\n",
    "            self.o[index], # Observation\n",
    "            self.a[index], # Action\n",
    "            self.r[index], # Reward\n",
    "            self.t[index], # Terminated\n",
    "            self.next_o[index], # Next observation\n",
    "        )\n",
    "    def __len__(self):\n",
    "        return len(self.o)\n",
    "\n",
    "def eval_batch(network, batch, gamma):\n",
    "    o, a, r, t, next_o = batch\n",
    "    network_predictions = network(o)\n",
    "    value_predictions = torch.stack([\n",
    "        prediction[action]\n",
    "        for prediction, action in zip(network_predictions, a)\n",
    "        ])\n",
    "    future_values = network(next_o).max(-1).values.detach()\n",
    "    future_values[t] = 0\n",
    "    loss = nn.functional.mse_loss(value_predictions, r+gamma*future_values)\n",
    "    return torch.mean(loss)\n",
    "\n",
    "def run_epoch(network:nn.Module, ds: Dataset, optim: torch.optim.Optimizer=None, gamma=0.9):\n",
    "    dl = DataLoader(ds, 32, True)\n",
    "    losses = []\n",
    "    for batch in dl:\n",
    "        loss = eval_batch(network, batch, gamma)\n",
    "        if optim is not None:\n",
    "            optim.zero_grad()\n",
    "            loss.backward()\n",
    "            optim.step()\n",
    "        losses.append(loss.detach().item())\n",
    "    return losses\n",
    "\n",
    "def train(env, agent: DQN, iters: int=100, episodes_per_iter=10, train_val_split: float=0.8, lr:float=0.001):\n",
    "    optim = torch.optim.AdamW(agent.network.parameters(), lr)\n",
    "    for iter in trange(iters):\n",
    "        steps = 0\n",
    "        for episode in range(episodes_per_iter):\n",
    "            steps += run_one_episode(env, agent)\n",
    "        mean_return = sum(list(agent.r)[-steps:])/episodes_per_iter\n",
    "        mlflow.log_metric(\"mean return\", mean_return, step=agent.steps)\n",
    "        ds = DQN_Dataset(agent)\n",
    "        tds, vds = Subset(ds, range(int(len(ds)*train_val_split))), Subset(ds, range(int(len(ds)*train_val_split), len(ds)))\n",
    "        mlflow.log_metric(\"dataset size\", len(ds), step=agent.steps)\n",
    "        training_losses = run_epoch(agent.network, tds, optim)\n",
    "        val_losses = run_epoch(agent.network, vds)\n",
    "        mlflow.log_metric(\"training loss\", np.mean(training_losses), step=agent.steps)\n",
    "        mlflow.log_metric(\"val loss\", np.mean(val_losses), step=agent.steps)\n",
    "\n",
    "\n",
    "dqn_agent = DQN()\n",
    "env = gym.make(\"CartPole-v1\")\n",
    "with mlflow.start_run():\n",
    "    params = {\n",
    "        \"iters\": 1000,\n",
    "        \"episodes per itteration\": 10,\n",
    "        \"learning rate\": 0.001\n",
    "    }\n",
    "    mlflow.log_params(params)\n",
    "    train(env, dqn_agent, params[\"iters\"], params[\"episodes per itteration\"], lr=params[\"learning rate\"])\n",
    "env.close()"
   ]
  },
  {
   "cell_type": "code",
   "execution_count": 36,
   "metadata": {},
   "outputs": [],
   "source": [
    "torch.save(dqn_agent.network.state_dict(), \"dqn_net.pth\")"
   ]
  },
  {
   "cell_type": "code",
   "execution_count": 39,
   "metadata": {},
   "outputs": [
    {
     "data": {
      "image/png": "[encoded data removed]",
      "text/plain": [
       "<Figure size 640x480 with 1 Axes>"
      ]
     },
     "metadata": {},
     "output_type": "display_data"
    }
   ],
   "source": [
    "env = gym.make(\"CartPole-v1\", render_mode=\"rgb_array\")\n",
    "agent = DQN()\n",
    "agent.network.load_state_dict(torch.load(\"dqn_net.pth\", weights_only=True))\n",
    "run_one_episode(env, agent, True)\n",
    "env.close()"
   ]
  }
 ],
 "metadata": {
  "kernelspec": {
   "display_name": ".venv",
   "language": "python",
   "name": "python3"
  },
  "language_info": {
   "codemirror_mode": {
    "name": "ipython",
    "version": 3
   },
   "file_extension": ".py",
   "mimetype": "text/x-python",
   "name": "python",
   "nbconvert_exporter": "python",
   "pygments_lexer": "ipython3",
   "version": "3.10.12"
  }
 },
 "nbformat": 4,
 "nbformat_minor": 2
}
